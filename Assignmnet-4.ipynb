{
 "cells": [
  {
   "cell_type": "code",
   "execution_count": 4,
   "metadata": {},
   "outputs": [
    {
     "name": "stdout",
     "output_type": "stream",
     "text": [
      "{'First_Name': 'Aashir', 'Last_Name': 'Azeem', 'Age': 24, 'City': 'Karachi'}\n",
      "{'First_Name': 'Aashir', 'Last_Name': 'Azeem', 'Age': 24, 'City': 'Karachi', 'Qualification': 'Intermediate'}\n",
      "{'First_Name': 'Aashir', 'Last_Name': 'Azeem', 'Age': 24, 'City': 'Karachi'}\n"
     ]
    }
   ],
   "source": [
    "data = {\"First_Name\":\"Aashir\",\"Last_Name\":\"Azeem\",\"Age\":24,\"City\":\"Karachi\"} \n",
    "print(data)\n",
    "data[\"Qualification\"] = \"Intermediate\"\n",
    "print(data)\n",
    "del data[\"Qualification\"]\n",
    "print(data)"
   ]
  },
  {
   "cell_type": "code",
   "execution_count": 8,
   "metadata": {},
   "outputs": [
    {
     "name": "stdout",
     "output_type": "stream",
     "text": [
      "Karachi {'Country': 'Pakistan', 'Population': '15 Millions', 'fact': 'Karachi Is The Sixth Most Populous City In The World'}\n",
      "Dhaka  {'country': 'Bangladesh', 'Population': '8.906 Millions', 'fact': 'The World’s Third Most Densely Populated City'}\n",
      "London {'country': 'England', 'Population': '8.9 Millions', 'fact': 'The Romans were the first to make London their home.'}\n"
     ]
    }
   ],
   "source": [
    "city = {\"Karachi\":{\"Country\":\"Pakistan\",\"Population\":\"15 Millions\",\"fact\":\"Karachi Is The Sixth Most Populous City In The World\"},\n",
    "        \"Dhaka \":{\"country\":\"Bangladesh\",\"Population\":\"8.906 Millions\",'fact':\"The World’s Third Most Densely Populated City\"},\n",
    "       \"London\":{\"country\":\"England\",\"Population\":\"8.9 Millions\",\"fact\":\"The Romans were the first to make London their home.\"}}\n",
    "for a,b in city.items():\n",
    "    print(a,b)"
   ]
  },
  {
   "cell_type": "code",
   "execution_count": 5,
   "metadata": {},
   "outputs": [
    {
     "name": "stdout",
     "output_type": "stream",
     "text": [
      "What is Your Age24\n",
      "Your Ticket is $15\n"
     ]
    }
   ],
   "source": [
    "for i in range(3):\n",
    "    age = int(input(\"What is Your Age\"))\n",
    "    if age <=3:\n",
    "        print(\"Your Ticket is Free\")\n",
    "        break\n",
    "    if age >3 and age <=12:\n",
    "        print(\"Your Ticket is $10\")\n",
    "        break\n",
    "    if age > 12:\n",
    "        print(\"Your Ticket is $15\")\n",
    "        break"
   ]
  },
  {
   "cell_type": "code",
   "execution_count": 3,
   "metadata": {},
   "outputs": [
    {
     "data": {
      "text/plain": [
       "('One of My Favourite Book is', 'Alice in Wonderland')"
      ]
     },
     "execution_count": 3,
     "metadata": {},
     "output_type": "execute_result"
    }
   ],
   "source": [
    "def favourite_book(title):\n",
    "        return \"One of My Favourite Book is\",title\n",
    "favourite_book('Alice in Wonderland')"
   ]
  },
  {
   "cell_type": "code",
   "execution_count": 6,
   "metadata": {},
   "outputs": [
    {
     "name": "stdout",
     "output_type": "stream",
     "text": [
      "================HINT================\n",
      "try a number between 1 and 10\n",
      "enter your guess: 7\n",
      "Your Guess is Wrong\n",
      "============better luck next time :-)============\n",
      "enter your guess: 5\n",
      "Your Guess is Wrong\n",
      "============better luck next time :-)============\n",
      "enter your guess: 3\n",
      "Your Guess is Wrong\n",
      "============better luck next time :-)============\n"
     ]
    }
   ],
   "source": [
    "import random\n",
    "a=random.randint(1,30) #a is the hidden number\n",
    "print(\"================HINT================\")\n",
    "if a>= 1 and a < 10:\n",
    "    print(\"try a number between 1 and 10\")\n",
    "elif a >= 10 and a < 20:\n",
    "    print(\"try a number between 10 and 20\")\n",
    "elif a >= 20 and a < 30:\n",
    "    print(\"try a number between 20 and 30\")\n",
    "for i in range(0,3):\n",
    "    user = int(input(\"enter your guess: \"))\n",
    "    if user < 1 or user > 30:\n",
    "        print(\"choose a number between 1 and 30\")\n",
    "    else:\n",
    "        if user == a:\n",
    "            print(\"Your Guess is Right\")\n",
    "            break\n",
    "        else:\n",
    "            print(\"Your Guess is Wrong\")\n",
    "            print(\"============better luck next time :-)============\")"
   ]
  }
 ],
 "metadata": {
  "kernelspec": {
   "display_name": "Python 3",
   "language": "python",
   "name": "python3"
  },
  "language_info": {
   "codemirror_mode": {
    "name": "ipython",
    "version": 3
   },
   "file_extension": ".py",
   "mimetype": "text/x-python",
   "name": "python",
   "nbconvert_exporter": "python",
   "pygments_lexer": "ipython3",
   "version": "3.7.4"
  }
 },
 "nbformat": 4,
 "nbformat_minor": 2
}
