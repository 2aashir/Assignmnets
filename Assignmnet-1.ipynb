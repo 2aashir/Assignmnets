{
 "cells": [
  {
   "cell_type": "code",
   "execution_count": 1,
   "metadata": {},
   "outputs": [
    {
     "name": "stdout",
     "output_type": "stream",
     "text": [
      "     Twinkle, twinkle, little star,\n",
      "           How I wonder what you are!\n",
      "                 Up above the world so high,\n",
      "                 Like a diamond in the sky.\n",
      "     Twinkle, twinkle, little star,\n",
      "           How I wonder what you are\n"
     ]
    }
   ],
   "source": [
    "# Question No # 1\n",
    "a=(\"     \")+(\"Twinkle, twinkle, little star,\")\n",
    "print(a)\n",
    "b=(\"           \")+(\"How I wonder what you are!\")\n",
    "print(b)\n",
    "c=(\"                 \")+(\"Up above the world so high,\")\n",
    "print(c)\n",
    "d=(\"                 \")+(\"Like a diamond in the sky.\")\n",
    "print(d)\n",
    "e=(\"     \")+(\"Twinkle, twinkle, little star,\")\n",
    "print(e)\n",
    "f=(\"           \")+(\"How I wonder what you are\")\n",
    "print(f)"
   ]
  },
  {
   "cell_type": "code",
   "execution_count": 2,
   "metadata": {},
   "outputs": [
    {
     "name": "stdout",
     "output_type": "stream",
     "text": [
      "3.7.4 (default, Aug  9 2019, 18:34:13) [MSC v.1915 64 bit (AMD64)]\n"
     ]
    }
   ],
   "source": [
    "# Question No # 2\n",
    "import sys\n",
    "print(sys.version)"
   ]
  },
  {
   "cell_type": "code",
   "execution_count": 3,
   "metadata": {},
   "outputs": [
    {
     "name": "stdout",
     "output_type": "stream",
     "text": [
      "Current date and time : \n",
      "2019-11-22 18:22:39\n"
     ]
    }
   ],
   "source": [
    "# Question No # 3\n",
    "import datetime\n",
    "now = datetime.datetime.now()\n",
    "print (\"Current date and time : \")\n",
    "print (now.strftime(\"%Y-%m-%d %H:%M:%S\"))"
   ]
  },
  {
   "cell_type": "code",
   "execution_count": 4,
   "metadata": {},
   "outputs": [
    {
     "name": "stdout",
     "output_type": "stream",
     "text": [
      "Find the Area of circle? \n",
      "Enter The Radius4\n",
      "50.24\n"
     ]
    }
   ],
   "source": [
    "# Question No # 4\n",
    "print(\"Find the Area of circle? \")\n",
    "r=int(input(\"Enter The Radius\"))\n",
    "pi=3.14\n",
    "area=pi*r*r\n",
    "print(area)"
   ]
  },
  {
   "cell_type": "code",
   "execution_count": 6,
   "metadata": {},
   "outputs": [
    {
     "name": "stdout",
     "output_type": "stream",
     "text": [
      "Azeem Aashir\n"
     ]
    }
   ],
   "source": [
    "# Question No # 5\n",
    "first_name = \"Aashir\"\n",
    "last_name = \"Azeem\"\n",
    "full_name = last_name + \" \" + first_name\n",
    "print(full_name)\n"
   ]
  },
  {
   "cell_type": "code",
   "execution_count": 7,
   "metadata": {},
   "outputs": [
    {
     "name": "stdout",
     "output_type": "stream",
     "text": [
      "Enter 1st Value 4\n",
      "Enter 2nd Value 4\n",
      "8\n"
     ]
    }
   ],
   "source": [
    "# Question No # 6\n",
    "a = int(input(\"Enter 1st Value \"))\n",
    "b = int(input(\"Enter 2nd Value \"))\n",
    "c = a + b \n",
    "print(c)\n"
   ]
  },
  {
   "cell_type": "code",
   "execution_count": null,
   "metadata": {},
   "outputs": [],
   "source": []
  }
 ],
 "metadata": {
  "kernelspec": {
   "display_name": "Python 3",
   "language": "python",
   "name": "python3"
  },
  "language_info": {
   "codemirror_mode": {
    "name": "ipython",
    "version": 3
   },
   "file_extension": ".py",
   "mimetype": "text/x-python",
   "name": "python",
   "nbconvert_exporter": "python",
   "pygments_lexer": "ipython3",
   "version": "3.7.4"
  }
 },
 "nbformat": 4,
 "nbformat_minor": 2
}
